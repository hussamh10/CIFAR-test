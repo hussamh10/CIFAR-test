{
 "cells": [
  {
   "cell_type": "code",
   "execution_count": 1,
   "metadata": {
    "collapsed": true
   },
   "outputs": [],
   "source": [
    "import pickle\n",
    "import numpy as np\n",
    "import tensorflow as tf\n",
    "file = 'data_batch_1'\n",
    "data_size = 10000"
   ]
  },
  {
   "cell_type": "code",
   "execution_count": 2,
   "metadata": {
    "collapsed": true
   },
   "outputs": [],
   "source": [
    "def generate_one_hot(labels):\n",
    "    one_hot = []\n",
    "    mold = [0, 0, 0, 0, 0, 0, 0, 0, 0, 0]\n",
    "    for label in labels:\n",
    "        temp = mold[:]\n",
    "        temp[label] = 1\n",
    "        one_hot.append(temp)\n",
    "    return one_hot"
   ]
  },
  {
   "cell_type": "code",
   "execution_count": 3,
   "metadata": {
    "collapsed": true
   },
   "outputs": [],
   "source": [
    "def get_batches(pool):\n",
    "    batches = []\n",
    "    len = pool.__len__()\n",
    "    lo = 0\n",
    "    hi = 1000\n",
    "    for b in range(10):\n",
    "        batches.append(pool[lo:hi])\n",
    "        hi += 1000\n",
    "        lo += 1000\n",
    "    return batches"
   ]
  },
  {
   "cell_type": "markdown",
   "metadata": {},
   "source": [
    "CIFAR-10  data is loaded, only one batch is being used right now."
   ]
  },
  {
   "cell_type": "code",
   "execution_count": 4,
   "metadata": {},
   "outputs": [
    {
     "name": "stdout",
     "output_type": "stream",
     "text": [
      "[242 242 244 ..., 137 137 135] [242 242 244 ..., 137 137 135] [0 0 0 0 0 0 0 0 0 1] [0 0 0 0 0 0 0 0 0 1]\n"
     ]
    }
   ],
   "source": [
    "with open(file, 'rb') as f:\n",
    "    dict = pickle.load(f, encoding='bytes')\n",
    "images = dict[b'data']\n",
    "\n",
    "labels = dict[b'labels']\n",
    "\n",
    "test_labels = labels[2000:2100]\n",
    "labels = labels[:data_size]\n",
    "\n",
    "labels = generate_one_hot(labels)\n",
    "test_labels = generate_one_hot(test_labels)\n",
    "\n",
    "labels = np.array(labels)\n",
    "test_labels = np.array(test_labels)\n",
    "\n",
    "labels = np.reshape(labels, (data_size, 10))\n",
    "test_labels = np.reshape(test_labels, (100, 10))\n",
    "\n",
    "\n",
    "test_images = images[2000:2100]\n",
    "images = images[:data_size]\n",
    "\n",
    "images.__len__()\n",
    "\n",
    "ib = get_batches(images)\n",
    "lb = get_batches(labels)\n",
    "\n",
    "print(images[1000], ib[1][0], labels[1000], lb[1][0])"
   ]
  },
  {
   "cell_type": "markdown",
   "metadata": {},
   "source": [
    "Constants and parameters are set up"
   ]
  },
  {
   "cell_type": "code",
   "execution_count": 5,
   "metadata": {
    "collapsed": true
   },
   "outputs": [],
   "source": [
    "x = tf.placeholder('float', [None, 3072])\n",
    "y = tf.placeholder('float', [None, 10])"
   ]
  },
  {
   "cell_type": "markdown",
   "metadata": {},
   "source": [
    "Functions for actually performing convolutions and pooling"
   ]
  },
  {
   "cell_type": "code",
   "execution_count": 6,
   "metadata": {
    "collapsed": true
   },
   "outputs": [],
   "source": [
    "def conv2d(x, W):\n",
    "    return tf.nn.conv2d(x, W, strides = [1, 1, 1, 1], padding='SAME')\n",
    "\n",
    "def maxpool2d(x):\n",
    "    return tf.nn.max_pool(x, ksize=[1, 2, 2, 1], strides=[1, 2, 2, 1], padding='SAME')"
   ]
  },
  {
   "cell_type": "code",
   "execution_count": 7,
   "metadata": {
    "collapsed": true
   },
   "outputs": [],
   "source": [
    "def convolutional_neural_network(x):\n",
    "    weights = {'W_conv1':tf.Variable(tf.random_normal([5,5,3,32])),\n",
    "               'W_conv2':tf.Variable(tf.random_normal([5,5,32,64])),\n",
    "               'W_fc':tf.Variable(tf.random_normal([8*8*64, 1024])),\n",
    "               'out':tf.Variable(tf.random_normal([1024, 10]))}\n",
    "\n",
    "    biases = {'b_conv1':tf.Variable(tf.random_normal([32])),\n",
    "               'b_conv2':tf.Variable(tf.random_normal([64])),\n",
    "               'b_fc':tf.Variable(tf.random_normal([1024])),\n",
    "               'out':tf.Variable(tf.random_normal([10]))}\n",
    "\n",
    "    x = tf.reshape(x, shape=[-1, 32, 32, 3])\n",
    "\n",
    "    conv1 = tf.nn.relu(conv2d(x, weights['W_conv1']) + biases['b_conv1'])\n",
    "    conv1 = maxpool2d(conv1)\n",
    "    \n",
    "    conv2 = tf.nn.relu(conv2d(conv1, weights['W_conv2']) + biases['b_conv2'])\n",
    "    conv2 = maxpool2d(conv2)\n",
    "    fc = tf.reshape(conv2 ,[-1, 8*8*64])\n",
    "    fc = tf.nn.relu(tf.matmul(fc, weights['W_fc'])+biases['b_fc'])\n",
    "\n",
    "    output = tf.matmul(fc, weights['out'])+biases['out']\n",
    "\n",
    "    return output"
   ]
  },
  {
   "cell_type": "code",
   "execution_count": 13,
   "metadata": {},
   "outputs": [],
   "source": [
    "def train_neural_network(x):\n",
    "    prediction = convolutional_neural_network(x)\n",
    "    print(prediction, y)\n",
    "    cost = tf.reduce_mean(tf.nn.softmax_cross_entropy_with_logits(logits=prediction,labels=y))\n",
    "    optimizer = tf.train.AdamOptimizer().minimize(cost)\n",
    "    \n",
    "    hm_epochs = 100\n",
    "    with tf.Session() as sess:\n",
    "        sess.run(tf.initialize_all_variables())\n",
    "        epoch_error = 0\n",
    "        for epoch in range(hm_epochs):\n",
    "            for e_image, e_label in zip(ib, lb):\n",
    "                _, c = sess.run([optimizer, cost], feed_dict={x:e_image, y:e_label})\n",
    "                epoch_error += c\n",
    "            print('Epoch', epoch, 'completed out of',hm_epochs,'loss:',c)\n",
    "                \n",
    "        correct = tf.equal(tf.argmax(prediction, 1), tf.argmax(y, 1))\n",
    "\n",
    "        accuracy = tf.reduce_mean(tf.cast(correct, 'float'))\n",
    "        print('Accuracy:',accuracy.eval({x:test_images, y:test_labels}))\n"
   ]
  },
  {
   "cell_type": "code",
   "execution_count": 14,
   "metadata": {},
   "outputs": [
    {
     "name": "stdout",
     "output_type": "stream",
     "text": [
      "Tensor(\"add_7:0\", shape=(?, 10), dtype=float32) Tensor(\"Placeholder_1:0\", shape=(?, 10), dtype=float32)\n",
      "WARNING:tensorflow:From c:\\users\\hussamh10\\appdata\\local\\programs\\python\\python3564\\lib\\site-packages\\tensorflow\\python\\util\\tf_should_use.py:170: initialize_all_variables (from tensorflow.python.ops.variables) is deprecated and will be removed after 2017-03-02.\n",
      "Instructions for updating:\n",
      "Use `tf.global_variables_initializer` instead.\n",
      "Epoch 0 completed out of 100 loss: 5.55292e+07\n",
      "Epoch 0 completed out of 100 loss: 4.00112e+07\n",
      "Epoch 0 completed out of 100 loss: 3.16735e+07\n",
      "Epoch 0 completed out of 100 loss: 2.73446e+07\n",
      "Epoch 0 completed out of 100 loss: 2.30033e+07\n",
      "Epoch 0 completed out of 100 loss: 2.11136e+07\n",
      "Epoch 0 completed out of 100 loss: 1.96153e+07\n",
      "Epoch 0 completed out of 100 loss: 2.03299e+07\n",
      "Epoch 0 completed out of 100 loss: 1.93786e+07\n",
      "Epoch 0 completed out of 100 loss: 1.76478e+07\n",
      "Epoch 1 completed out of 100 loss: 1.55273e+07\n",
      "Epoch 1 completed out of 100 loss: 1.42945e+07\n",
      "Epoch 1 completed out of 100 loss: 1.25255e+07\n",
      "Epoch 1 completed out of 100 loss: 1.2674e+07\n",
      "Epoch 1 completed out of 100 loss: 1.16629e+07\n",
      "Epoch 1 completed out of 100 loss: 1.13581e+07\n",
      "Epoch 1 completed out of 100 loss: 1.09548e+07\n",
      "Epoch 1 completed out of 100 loss: 1.11595e+07\n",
      "Epoch 1 completed out of 100 loss: 1.11323e+07\n",
      "Epoch 1 completed out of 100 loss: 1.0982e+07\n",
      "Epoch 2 completed out of 100 loss: 9.93491e+06\n",
      "Epoch 2 completed out of 100 loss: 9.12411e+06\n",
      "Epoch 2 completed out of 100 loss: 8.79905e+06\n",
      "Epoch 2 completed out of 100 loss: 9.26988e+06\n",
      "Epoch 2 completed out of 100 loss: 9.27012e+06\n",
      "Epoch 2 completed out of 100 loss: 8.6931e+06\n",
      "Epoch 2 completed out of 100 loss: 8.16321e+06\n",
      "Epoch 2 completed out of 100 loss: 8.05931e+06\n",
      "Epoch 2 completed out of 100 loss: 7.50139e+06\n",
      "Epoch 2 completed out of 100 loss: 8.10203e+06\n",
      "Epoch 3 completed out of 100 loss: 7.47587e+06\n",
      "Epoch 3 completed out of 100 loss: 7.29793e+06\n",
      "Epoch 3 completed out of 100 loss: 6.8504e+06\n",
      "Epoch 3 completed out of 100 loss: 7.58738e+06\n",
      "Epoch 3 completed out of 100 loss: 7.07488e+06\n",
      "Epoch 3 completed out of 100 loss: 6.777e+06\n",
      "Epoch 3 completed out of 100 loss: 6.12153e+06\n",
      "Epoch 3 completed out of 100 loss: 6.39721e+06\n",
      "Epoch 3 completed out of 100 loss: 6.28566e+06\n",
      "Epoch 3 completed out of 100 loss: 6.65849e+06\n",
      "Epoch 4 completed out of 100 loss: 6.21049e+06\n",
      "Epoch 4 completed out of 100 loss: 6.038e+06\n",
      "Epoch 4 completed out of 100 loss: 5.65335e+06\n",
      "Epoch 4 completed out of 100 loss: 6.04027e+06\n",
      "Epoch 4 completed out of 100 loss: 5.91394e+06\n",
      "Epoch 4 completed out of 100 loss: 5.88641e+06\n",
      "Epoch 4 completed out of 100 loss: 5.34925e+06\n",
      "Epoch 4 completed out of 100 loss: 5.55534e+06\n",
      "Epoch 4 completed out of 100 loss: 5.59585e+06\n",
      "Epoch 4 completed out of 100 loss: 5.89535e+06\n",
      "Epoch 5 completed out of 100 loss: 5.55449e+06\n",
      "Epoch 5 completed out of 100 loss: 5.49984e+06\n",
      "Epoch 5 completed out of 100 loss: 5.19338e+06\n",
      "Epoch 5 completed out of 100 loss: 5.56139e+06\n",
      "Epoch 5 completed out of 100 loss: 5.45974e+06\n",
      "Epoch 5 completed out of 100 loss: 5.45726e+06\n",
      "Epoch 5 completed out of 100 loss: 4.98066e+06\n",
      "Epoch 5 completed out of 100 loss: 5.13417e+06\n",
      "Epoch 5 completed out of 100 loss: 5.27689e+06\n",
      "Epoch 5 completed out of 100 loss: 5.52837e+06\n",
      "Epoch 6 completed out of 100 loss: 5.29669e+06\n",
      "Epoch 6 completed out of 100 loss: 5.23104e+06\n",
      "Epoch 6 completed out of 100 loss: 4.88651e+06\n",
      "Epoch 6 completed out of 100 loss: 5.23053e+06\n",
      "Epoch 6 completed out of 100 loss: 5.0889e+06\n",
      "Epoch 6 completed out of 100 loss: 5.12725e+06\n",
      "Epoch 6 completed out of 100 loss: 4.72799e+06\n",
      "Epoch 6 completed out of 100 loss: 4.92658e+06\n",
      "Epoch 6 completed out of 100 loss: 5.02594e+06\n",
      "Epoch 6 completed out of 100 loss: 5.21445e+06\n",
      "Epoch 7 completed out of 100 loss: 5.04992e+06\n",
      "Epoch 7 completed out of 100 loss: 4.97764e+06\n",
      "Epoch 7 completed out of 100 loss: 4.62117e+06\n",
      "Epoch 7 completed out of 100 loss: 4.93018e+06\n",
      "Epoch 7 completed out of 100 loss: 4.82327e+06\n",
      "Epoch 7 completed out of 100 loss: 4.80837e+06\n",
      "Epoch 7 completed out of 100 loss: 4.52008e+06\n",
      "Epoch 7 completed out of 100 loss: 4.73839e+06\n",
      "Epoch 7 completed out of 100 loss: 4.76153e+06\n",
      "Epoch 7 completed out of 100 loss: 4.94298e+06\n",
      "Epoch 8 completed out of 100 loss: 4.84821e+06\n",
      "Epoch 8 completed out of 100 loss: 4.79695e+06\n",
      "Epoch 8 completed out of 100 loss: 4.37891e+06\n",
      "Epoch 8 completed out of 100 loss: 4.6472e+06\n",
      "Epoch 8 completed out of 100 loss: 4.59554e+06\n",
      "Epoch 8 completed out of 100 loss: 4.56519e+06\n",
      "Epoch 8 completed out of 100 loss: 4.31059e+06\n",
      "Epoch 8 completed out of 100 loss: 4.52496e+06\n",
      "Epoch 8 completed out of 100 loss: 4.50825e+06\n",
      "Epoch 8 completed out of 100 loss: 4.67672e+06\n",
      "Epoch 9 completed out of 100 loss: 4.63495e+06\n",
      "Epoch 9 completed out of 100 loss: 4.59074e+06\n",
      "Epoch 9 completed out of 100 loss: 4.15508e+06\n",
      "Epoch 9 completed out of 100 loss: 4.39867e+06\n",
      "Epoch 9 completed out of 100 loss: 4.40388e+06\n",
      "Epoch 9 completed out of 100 loss: 4.39082e+06\n",
      "Epoch 9 completed out of 100 loss: 4.1474e+06\n",
      "Epoch 9 completed out of 100 loss: 4.34514e+06\n",
      "Epoch 9 completed out of 100 loss: 4.30416e+06\n",
      "Epoch 9 completed out of 100 loss: 4.45563e+06\n",
      "Epoch 10 completed out of 100 loss: 4.45418e+06\n",
      "Epoch 10 completed out of 100 loss: 4.39924e+06\n",
      "Epoch 10 completed out of 100 loss: 3.95711e+06\n",
      "Epoch 10 completed out of 100 loss: 4.19311e+06\n",
      "Epoch 10 completed out of 100 loss: 4.25733e+06\n",
      "Epoch 10 completed out of 100 loss: 4.22803e+06\n",
      "Epoch 10 completed out of 100 loss: 3.9599e+06\n",
      "Epoch 10 completed out of 100 loss: 4.16288e+06\n",
      "Epoch 10 completed out of 100 loss: 4.13705e+06\n",
      "Epoch 10 completed out of 100 loss: 4.2717e+06\n",
      "Epoch 11 completed out of 100 loss: 4.28351e+06\n",
      "Epoch 11 completed out of 100 loss: 4.19326e+06\n",
      "Epoch 11 completed out of 100 loss: 3.76434e+06\n",
      "Epoch 11 completed out of 100 loss: 4.01978e+06\n",
      "Epoch 11 completed out of 100 loss: 4.13575e+06\n",
      "Epoch 11 completed out of 100 loss: 4.07703e+06\n",
      "Epoch 11 completed out of 100 loss: 3.77386e+06\n",
      "Epoch 11 completed out of 100 loss: 3.99546e+06\n",
      "Epoch 11 completed out of 100 loss: 3.99431e+06\n",
      "Epoch 11 completed out of 100 loss: 4.13039e+06\n",
      "Epoch 12 completed out of 100 loss: 4.12169e+06\n",
      "Epoch 12 completed out of 100 loss: 4.02264e+06\n",
      "Epoch 12 completed out of 100 loss: 3.58496e+06\n",
      "Epoch 12 completed out of 100 loss: 3.85535e+06\n",
      "Epoch 12 completed out of 100 loss: 4.01766e+06\n",
      "Epoch 12 completed out of 100 loss: 3.94004e+06\n",
      "Epoch 12 completed out of 100 loss: 3.61608e+06\n",
      "Epoch 12 completed out of 100 loss: 3.84592e+06\n",
      "Epoch 12 completed out of 100 loss: 3.86027e+06\n",
      "Epoch 12 completed out of 100 loss: 3.9864e+06\n",
      "Epoch 13 completed out of 100 loss: 3.95896e+06\n",
      "Epoch 13 completed out of 100 loss: 3.86825e+06\n",
      "Epoch 13 completed out of 100 loss: 3.4452e+06\n",
      "Epoch 13 completed out of 100 loss: 3.71344e+06\n",
      "Epoch 13 completed out of 100 loss: 3.88934e+06\n",
      "Epoch 13 completed out of 100 loss: 3.82388e+06\n",
      "Epoch 13 completed out of 100 loss: 3.47278e+06\n",
      "Epoch 13 completed out of 100 loss: 3.70245e+06\n"
     ]
    },
    {
     "ename": "KeyboardInterrupt",
     "evalue": "",
     "output_type": "error",
     "traceback": [
      "\u001b[1;31m---------------------------------------------------------------------------\u001b[0m",
      "\u001b[1;31mKeyboardInterrupt\u001b[0m                         Traceback (most recent call last)",
      "\u001b[1;32m<ipython-input-14-7c7cbdae9b34>\u001b[0m in \u001b[0;36m<module>\u001b[1;34m()\u001b[0m\n\u001b[1;32m----> 1\u001b[1;33m \u001b[0mtrain_neural_network\u001b[0m\u001b[1;33m(\u001b[0m\u001b[0mx\u001b[0m\u001b[1;33m)\u001b[0m\u001b[1;33m\u001b[0m\u001b[0m\n\u001b[0m",
      "\u001b[1;32m<ipython-input-13-39ebc050690d>\u001b[0m in \u001b[0;36mtrain_neural_network\u001b[1;34m(x)\u001b[0m\n\u001b[0;32m     11\u001b[0m         \u001b[1;32mfor\u001b[0m \u001b[0mepoch\u001b[0m \u001b[1;32min\u001b[0m \u001b[0mrange\u001b[0m\u001b[1;33m(\u001b[0m\u001b[0mhm_epochs\u001b[0m\u001b[1;33m)\u001b[0m\u001b[1;33m:\u001b[0m\u001b[1;33m\u001b[0m\u001b[0m\n\u001b[0;32m     12\u001b[0m             \u001b[1;32mfor\u001b[0m \u001b[0me_image\u001b[0m\u001b[1;33m,\u001b[0m \u001b[0me_label\u001b[0m \u001b[1;32min\u001b[0m \u001b[0mzip\u001b[0m\u001b[1;33m(\u001b[0m\u001b[0mib\u001b[0m\u001b[1;33m,\u001b[0m \u001b[0mlb\u001b[0m\u001b[1;33m)\u001b[0m\u001b[1;33m:\u001b[0m\u001b[1;33m\u001b[0m\u001b[0m\n\u001b[1;32m---> 13\u001b[1;33m                 \u001b[0m_\u001b[0m\u001b[1;33m,\u001b[0m \u001b[0mc\u001b[0m \u001b[1;33m=\u001b[0m \u001b[0msess\u001b[0m\u001b[1;33m.\u001b[0m\u001b[0mrun\u001b[0m\u001b[1;33m(\u001b[0m\u001b[1;33m[\u001b[0m\u001b[0moptimizer\u001b[0m\u001b[1;33m,\u001b[0m \u001b[0mcost\u001b[0m\u001b[1;33m]\u001b[0m\u001b[1;33m,\u001b[0m \u001b[0mfeed_dict\u001b[0m\u001b[1;33m=\u001b[0m\u001b[1;33m{\u001b[0m\u001b[0mx\u001b[0m\u001b[1;33m:\u001b[0m\u001b[0me_image\u001b[0m\u001b[1;33m,\u001b[0m \u001b[0my\u001b[0m\u001b[1;33m:\u001b[0m\u001b[0me_label\u001b[0m\u001b[1;33m}\u001b[0m\u001b[1;33m)\u001b[0m\u001b[1;33m\u001b[0m\u001b[0m\n\u001b[0m\u001b[0;32m     14\u001b[0m                 \u001b[0mprint\u001b[0m\u001b[1;33m(\u001b[0m\u001b[1;34m'Epoch'\u001b[0m\u001b[1;33m,\u001b[0m \u001b[0mepoch\u001b[0m\u001b[1;33m,\u001b[0m \u001b[1;34m'completed out of'\u001b[0m\u001b[1;33m,\u001b[0m\u001b[0mhm_epochs\u001b[0m\u001b[1;33m,\u001b[0m\u001b[1;34m'loss:'\u001b[0m\u001b[1;33m,\u001b[0m\u001b[0mc\u001b[0m\u001b[1;33m)\u001b[0m\u001b[1;33m\u001b[0m\u001b[0m\n\u001b[0;32m     15\u001b[0m \u001b[1;33m\u001b[0m\u001b[0m\n",
      "\u001b[1;32mc:\\users\\hussamh10\\appdata\\local\\programs\\python\\python3564\\lib\\site-packages\\tensorflow\\python\\client\\session.py\u001b[0m in \u001b[0;36mrun\u001b[1;34m(self, fetches, feed_dict, options, run_metadata)\u001b[0m\n\u001b[0;32m    787\u001b[0m     \u001b[1;32mtry\u001b[0m\u001b[1;33m:\u001b[0m\u001b[1;33m\u001b[0m\u001b[0m\n\u001b[0;32m    788\u001b[0m       result = self._run(None, fetches, feed_dict, options_ptr,\n\u001b[1;32m--> 789\u001b[1;33m                          run_metadata_ptr)\n\u001b[0m\u001b[0;32m    790\u001b[0m       \u001b[1;32mif\u001b[0m \u001b[0mrun_metadata\u001b[0m\u001b[1;33m:\u001b[0m\u001b[1;33m\u001b[0m\u001b[0m\n\u001b[0;32m    791\u001b[0m         \u001b[0mproto_data\u001b[0m \u001b[1;33m=\u001b[0m \u001b[0mtf_session\u001b[0m\u001b[1;33m.\u001b[0m\u001b[0mTF_GetBuffer\u001b[0m\u001b[1;33m(\u001b[0m\u001b[0mrun_metadata_ptr\u001b[0m\u001b[1;33m)\u001b[0m\u001b[1;33m\u001b[0m\u001b[0m\n",
      "\u001b[1;32mc:\\users\\hussamh10\\appdata\\local\\programs\\python\\python3564\\lib\\site-packages\\tensorflow\\python\\client\\session.py\u001b[0m in \u001b[0;36m_run\u001b[1;34m(self, handle, fetches, feed_dict, options, run_metadata)\u001b[0m\n\u001b[0;32m    995\u001b[0m     \u001b[1;32mif\u001b[0m \u001b[0mfinal_fetches\u001b[0m \u001b[1;32mor\u001b[0m \u001b[0mfinal_targets\u001b[0m\u001b[1;33m:\u001b[0m\u001b[1;33m\u001b[0m\u001b[0m\n\u001b[0;32m    996\u001b[0m       results = self._do_run(handle, final_targets, final_fetches,\n\u001b[1;32m--> 997\u001b[1;33m                              feed_dict_string, options, run_metadata)\n\u001b[0m\u001b[0;32m    998\u001b[0m     \u001b[1;32melse\u001b[0m\u001b[1;33m:\u001b[0m\u001b[1;33m\u001b[0m\u001b[0m\n\u001b[0;32m    999\u001b[0m       \u001b[0mresults\u001b[0m \u001b[1;33m=\u001b[0m \u001b[1;33m[\u001b[0m\u001b[1;33m]\u001b[0m\u001b[1;33m\u001b[0m\u001b[0m\n",
      "\u001b[1;32mc:\\users\\hussamh10\\appdata\\local\\programs\\python\\python3564\\lib\\site-packages\\tensorflow\\python\\client\\session.py\u001b[0m in \u001b[0;36m_do_run\u001b[1;34m(self, handle, target_list, fetch_list, feed_dict, options, run_metadata)\u001b[0m\n\u001b[0;32m   1130\u001b[0m     \u001b[1;32mif\u001b[0m \u001b[0mhandle\u001b[0m \u001b[1;32mis\u001b[0m \u001b[1;32mNone\u001b[0m\u001b[1;33m:\u001b[0m\u001b[1;33m\u001b[0m\u001b[0m\n\u001b[0;32m   1131\u001b[0m       return self._do_call(_run_fn, self._session, feed_dict, fetch_list,\n\u001b[1;32m-> 1132\u001b[1;33m                            target_list, options, run_metadata)\n\u001b[0m\u001b[0;32m   1133\u001b[0m     \u001b[1;32melse\u001b[0m\u001b[1;33m:\u001b[0m\u001b[1;33m\u001b[0m\u001b[0m\n\u001b[0;32m   1134\u001b[0m       return self._do_call(_prun_fn, self._session, handle, feed_dict,\n",
      "\u001b[1;32mc:\\users\\hussamh10\\appdata\\local\\programs\\python\\python3564\\lib\\site-packages\\tensorflow\\python\\client\\session.py\u001b[0m in \u001b[0;36m_do_call\u001b[1;34m(self, fn, *args)\u001b[0m\n\u001b[0;32m   1137\u001b[0m   \u001b[1;32mdef\u001b[0m \u001b[0m_do_call\u001b[0m\u001b[1;33m(\u001b[0m\u001b[0mself\u001b[0m\u001b[1;33m,\u001b[0m \u001b[0mfn\u001b[0m\u001b[1;33m,\u001b[0m \u001b[1;33m*\u001b[0m\u001b[0margs\u001b[0m\u001b[1;33m)\u001b[0m\u001b[1;33m:\u001b[0m\u001b[1;33m\u001b[0m\u001b[0m\n\u001b[0;32m   1138\u001b[0m     \u001b[1;32mtry\u001b[0m\u001b[1;33m:\u001b[0m\u001b[1;33m\u001b[0m\u001b[0m\n\u001b[1;32m-> 1139\u001b[1;33m       \u001b[1;32mreturn\u001b[0m \u001b[0mfn\u001b[0m\u001b[1;33m(\u001b[0m\u001b[1;33m*\u001b[0m\u001b[0margs\u001b[0m\u001b[1;33m)\u001b[0m\u001b[1;33m\u001b[0m\u001b[0m\n\u001b[0m\u001b[0;32m   1140\u001b[0m     \u001b[1;32mexcept\u001b[0m \u001b[0merrors\u001b[0m\u001b[1;33m.\u001b[0m\u001b[0mOpError\u001b[0m \u001b[1;32mas\u001b[0m \u001b[0me\u001b[0m\u001b[1;33m:\u001b[0m\u001b[1;33m\u001b[0m\u001b[0m\n\u001b[0;32m   1141\u001b[0m       \u001b[0mmessage\u001b[0m \u001b[1;33m=\u001b[0m \u001b[0mcompat\u001b[0m\u001b[1;33m.\u001b[0m\u001b[0mas_text\u001b[0m\u001b[1;33m(\u001b[0m\u001b[0me\u001b[0m\u001b[1;33m.\u001b[0m\u001b[0mmessage\u001b[0m\u001b[1;33m)\u001b[0m\u001b[1;33m\u001b[0m\u001b[0m\n",
      "\u001b[1;32mc:\\users\\hussamh10\\appdata\\local\\programs\\python\\python3564\\lib\\site-packages\\tensorflow\\python\\client\\session.py\u001b[0m in \u001b[0;36m_run_fn\u001b[1;34m(session, feed_dict, fetch_list, target_list, options, run_metadata)\u001b[0m\n\u001b[0;32m   1119\u001b[0m         return tf_session.TF_Run(session, options,\n\u001b[0;32m   1120\u001b[0m                                  \u001b[0mfeed_dict\u001b[0m\u001b[1;33m,\u001b[0m \u001b[0mfetch_list\u001b[0m\u001b[1;33m,\u001b[0m \u001b[0mtarget_list\u001b[0m\u001b[1;33m,\u001b[0m\u001b[1;33m\u001b[0m\u001b[0m\n\u001b[1;32m-> 1121\u001b[1;33m                                  status, run_metadata)\n\u001b[0m\u001b[0;32m   1122\u001b[0m \u001b[1;33m\u001b[0m\u001b[0m\n\u001b[0;32m   1123\u001b[0m     \u001b[1;32mdef\u001b[0m \u001b[0m_prun_fn\u001b[0m\u001b[1;33m(\u001b[0m\u001b[0msession\u001b[0m\u001b[1;33m,\u001b[0m \u001b[0mhandle\u001b[0m\u001b[1;33m,\u001b[0m \u001b[0mfeed_dict\u001b[0m\u001b[1;33m,\u001b[0m \u001b[0mfetch_list\u001b[0m\u001b[1;33m)\u001b[0m\u001b[1;33m:\u001b[0m\u001b[1;33m\u001b[0m\u001b[0m\n",
      "\u001b[1;31mKeyboardInterrupt\u001b[0m: "
     ]
    }
   ],
   "source": [
    "train_neural_network(x)"
   ]
  },
  {
   "cell_type": "code",
   "execution_count": null,
   "metadata": {
    "collapsed": true
   },
   "outputs": [],
   "source": []
  }
 ],
 "metadata": {
  "kernelspec": {
   "display_name": "Python 3",
   "language": "python",
   "name": "python3"
  },
  "language_info": {
   "codemirror_mode": {
    "name": "ipython",
    "version": 3
   },
   "file_extension": ".py",
   "mimetype": "text/x-python",
   "name": "python",
   "nbconvert_exporter": "python",
   "pygments_lexer": "ipython3",
   "version": "3.5.2"
  }
 },
 "nbformat": 4,
 "nbformat_minor": 2
}
